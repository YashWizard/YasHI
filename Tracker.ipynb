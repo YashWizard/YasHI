{
 "cells": [
  {
   "cell_type": "markdown",
   "id": "96fad0e4-0121-46d2-9f7f-e102b501c81e",
   "metadata": {},
   "source": [
    "## Importing required libraries........"
   ]
  },
  {
   "cell_type": "code",
   "execution_count": 19,
   "id": "9921d16b-a268-4259-aac2-7b65a942d219",
   "metadata": {},
   "outputs": [],
   "source": [
    "import cv2\n",
    "import sys"
   ]
  },
  {
   "cell_type": "code",
   "execution_count": 20,
   "id": "e22edde4-2969-4421-a877-7a33e17fdb48",
   "metadata": {},
   "outputs": [],
   "source": [
    "(major_ver, minor_ver, subminor_ver) = (cv2.__version__).split('.')"
   ]
  },
  {
   "cell_type": "code",
   "execution_count": 21,
   "id": "29e33f82-2472-41ea-9235-8ab6b4be10d4",
   "metadata": {},
   "outputs": [],
   "source": [
    "if __name__ == '__main__' :\n",
    " \n",
    "    # Set up tracker.\n",
    "    # Instead of MIL, you can also use\n",
    " \n",
    "    tracker_types = ['BOOSTING', 'MIL','KCF', 'TLD', 'MEDIANFLOW', 'GOTURN', 'MOSSE', 'CSRT']\n",
    "    tracker_type = tracker_types[7]\n",
    " \n",
    "   # if int(minor_ver) < 3:\n",
    "  #  tracker = cv2.Tracker_create(tracker_type)\n",
    "    tracker = cv2.TrackerCSRT_create()\n",
    "   "
   ]
  },
  {
   "cell_type": "code",
   "execution_count": 22,
   "id": "430c86a9-c0ba-40bb-94be-aaca39e08089",
   "metadata": {},
   "outputs": [
    {
     "data": {
      "text/plain": [
       "True"
      ]
     },
     "execution_count": 22,
     "metadata": {},
     "output_type": "execute_result"
    }
   ],
   "source": [
    "# Read video\n",
    "video = cv2.VideoCapture(\"volleyball_match.mp4\")\n",
    "video.set(cv2.CAP_PROP_POS_FRAMES, 119)\n"
   ]
  },
  {
   "cell_type": "code",
   "execution_count": 23,
   "id": "e9d5164d-8bd0-4f91-bcc2-b3d2ce86f89a",
   "metadata": {},
   "outputs": [],
   "source": [
    "if not video.isOpened():\n",
    "        print(\"Could not open video\")\n",
    "        sys.exit()"
   ]
  },
  {
   "cell_type": "code",
   "execution_count": 24,
   "id": "d4b1ec1f-60a6-42ff-8b83-4c569b89229a",
   "metadata": {},
   "outputs": [],
   "source": [
    "# Read the first frame.\n",
    "ok, frame = video.read()\n",
    "if not ok:\n",
    "    print('Cannot read video file')\n",
    "    sys.exit()\n"
   ]
  },
  {
   "cell_type": "code",
   "execution_count": 25,
   "id": "82bf551c-76be-46ea-98e4-4f74b5e40631",
   "metadata": {},
   "outputs": [],
   "source": [
    "# Define an initial bounding box\n",
    "bbox = (287, 23, 86, 320)\n"
   ]
  },
  {
   "cell_type": "code",
   "execution_count": 26,
   "id": "2a37b5ea-db43-4767-b082-9fba5d52fad6",
   "metadata": {},
   "outputs": [],
   "source": [
    "# Uncomment the line below to select a different bounding box \n",
    "bbox = cv2.selectROI(frame, False)\n"
   ]
  },
  {
   "cell_type": "code",
   "execution_count": 27,
   "id": "439f91d6-dd04-4e36-b0d2-32e2350591b0",
   "metadata": {},
   "outputs": [],
   "source": [
    "# Initialize tracker with the first frame and bounding box\n",
    "ok = tracker.init(frame, bbox)\n",
    "\n",
    "while True:\n",
    "    # Read a new frame\n",
    "    ok, frame = video.read()\n",
    "    if not ok:\n",
    "        break\n",
    "\n",
    "    # Start timer\n",
    "    timer = cv2.getTickCount()\n",
    "\n",
    "    # Update tracker\n",
    "    ok, bbox = tracker.update(frame)\n",
    "\n",
    "    # Calculate Frames per second (FPS)\n",
    "    fps = cv2.getTickFrequency() / (cv2.getTickCount() - timer)\n",
    "\n",
    "    # Draw bounding box\n",
    "    if ok:\n",
    "        # Tracking success\n",
    "        p1 = (int(bbox[0]), int(bbox[1]))\n",
    "        p2 = (int(bbox[0] + bbox[2]), int(bbox[1] + bbox[3]))\n",
    "        cv2.rectangle(frame, p1, p2, (255, 0, 0), 2, 1)\n",
    "    else:\n",
    "        # Tracking failure\n",
    "        cv2.putText(frame, \"Tracking failure detected\", (100, 80), cv2.FONT_HERSHEY_SIMPLEX, 0.75, (0, 0, 255), 2)\n",
    "\n",
    "    # Display tracker type on frame\n",
    "    cv2.putText(frame, tracker_type + \" Tracker\", (100, 20), cv2.FONT_HERSHEY_SIMPLEX, 0.75, (50, 170, 50), 2)\n",
    "\n",
    "    # Display FPS on frame\n",
    "    cv2.putText(frame, \"FPS : \" + str(int(fps)), (100, 50), cv2.FONT_HERSHEY_SIMPLEX, 0.75, (50, 170, 50), 2)\n",
    "\n",
    "    # Display result\n",
    "    cv2.imshow(\"Tracking\", frame)\n",
    "\n",
    "    # Exit if ESC pressed\n",
    "    if cv2.waitKey(1) & 0xFF == ord('q'):  # if press SPACE bar\n",
    "        break\n",
    "\n",
    "video.release()\n",
    "cv2.destroyAllWindows()\n",
    "## yash"
   ]
  },
  {
   "cell_type": "code",
   "execution_count": null,
   "id": "f429d899-dc0d-4797-913b-74e660488adf",
   "metadata": {},
   "outputs": [],
   "source": []
  }
 ],
 "metadata": {
  "kernelspec": {
   "display_name": "Python 3 (ipykernel)",
   "language": "python",
   "name": "python3"
  },
  "language_info": {
   "codemirror_mode": {
    "name": "ipython",
    "version": 3
   },
   "file_extension": ".py",
   "mimetype": "text/x-python",
   "name": "python",
   "nbconvert_exporter": "python",
   "pygments_lexer": "ipython3",
   "version": "3.11.8"
  }
 },
 "nbformat": 4,
 "nbformat_minor": 5
}
